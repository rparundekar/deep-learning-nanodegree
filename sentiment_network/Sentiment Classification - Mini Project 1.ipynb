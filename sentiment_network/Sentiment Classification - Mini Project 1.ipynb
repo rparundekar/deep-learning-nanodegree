{
 "cells": [
  {
   "cell_type": "markdown",
   "metadata": {},
   "source": [
    "# Sentiment Classification & How To \"Frame Problems\" for a Neural Network\n",
    "\n",
    "by Andrew Trask\n",
    "\n",
    "- **Twitter**: @iamtrask\n",
    "- **Blog**: http://iamtrask.github.io"
   ]
  },
  {
   "cell_type": "markdown",
   "metadata": {},
   "source": [
    "### What You Should Already Know\n",
    "\n",
    "- neural networks, forward and back-propagation\n",
    "- stochastic gradient descent\n",
    "- mean squared error\n",
    "- and train/test splits\n",
    "\n",
    "### Where to Get Help if You Need it\n",
    "- Re-watch previous Udacity Lectures\n",
    "- Leverage the recommended Course Reading Material - [Grokking Deep Learning](https://www.manning.com/books/grokking-deep-learning) (40% Off: **traskud17**)\n",
    "- Shoot me a tweet @iamtrask\n",
    "\n",
    "\n",
    "### Tutorial Outline:\n",
    "\n",
    "- Intro: The Importance of \"Framing a Problem\"\n",
    "\n",
    "\n",
    "- Curate a Dataset\n",
    "- Developing a \"Predictive Theory\"\n",
    "- **PROJECT 1**: Quick Theory Validation\n",
    "\n",
    "\n",
    "- Transforming Text to Numbers\n",
    "- **PROJECT 2**: Creating the Input/Output Data\n",
    "\n",
    "\n",
    "- Putting it all together in a Neural Network\n",
    "- **PROJECT 3**: Building our Neural Network\n",
    "\n",
    "\n",
    "- Understanding Neural Noise\n",
    "- **PROJECT 4**: Making Learning Faster by Reducing Noise\n",
    "\n",
    "\n",
    "- Analyzing Inefficiencies in our Network\n",
    "- **PROJECT 5**: Making our Network Train and Run Faster\n",
    "\n",
    "\n",
    "- Further Noise Reduction\n",
    "- **PROJECT 6**: Reducing Noise by Strategically Reducing the Vocabulary\n",
    "\n",
    "\n",
    "- Analysis: What's going on in the weights?"
   ]
  },
  {
   "cell_type": "markdown",
   "metadata": {
    "nbpresent": {
     "id": "56bb3cba-260c-4ebe-9ed6-b995b4c72aa3"
    }
   },
   "source": [
    "# Lesson: Curate a Dataset"
   ]
  },
  {
   "cell_type": "code",
   "execution_count": 12,
   "metadata": {
    "collapsed": false,
    "nbpresent": {
     "id": "eba2b193-0419-431e-8db9-60f34dd3fe83"
    }
   },
   "outputs": [],
   "source": [
    "def pretty_print_review_and_label(i):\n",
    "    print(labels[i] + \"\\t:\\t\" + reviews[i][:80] + \"...\")\n",
    "\n",
    "g = open('reviews.txt','r') # What we know!\n",
    "reviews = list(map(lambda x:x[:-1],g.readlines()))\n",
    "g.close()\n",
    "\n",
    "g = open('labels.txt','r') # What we WANT to know!\n",
    "labels = list(map(lambda x:x[:-1].upper(),g.readlines()))\n",
    "g.close()"
   ]
  },
  {
   "cell_type": "code",
   "execution_count": 13,
   "metadata": {
    "collapsed": false
   },
   "outputs": [
    {
     "data": {
      "text/plain": [
       "25000"
      ]
     },
     "execution_count": 13,
     "metadata": {},
     "output_type": "execute_result"
    }
   ],
   "source": [
    "len(reviews)"
   ]
  },
  {
   "cell_type": "code",
   "execution_count": 14,
   "metadata": {
    "collapsed": false,
    "nbpresent": {
     "id": "bb95574b-21a0-4213-ae50-34363cf4f87f"
    }
   },
   "outputs": [
    {
     "data": {
      "text/plain": [
       "'bromwell high is a cartoon comedy . it ran at the same time as some other programs about school life  such as  teachers  . my   years in the teaching profession lead me to believe that bromwell high  s satire is much closer to reality than is  teachers  . the scramble to survive financially  the insightful students who can see right through their pathetic teachers  pomp  the pettiness of the whole situation  all remind me of the schools i knew and their students . when i saw the episode in which a student repeatedly tried to burn down the school  i immediately recalled . . . . . . . . . at . . . . . . . . . . high . a classic line inspector i  m here to sack one of your teachers . student welcome to bromwell high . i expect that many adults of my age think that bromwell high is far fetched . what a pity that it isn  t   '"
      ]
     },
     "execution_count": 14,
     "metadata": {},
     "output_type": "execute_result"
    }
   ],
   "source": [
    "reviews[0]"
   ]
  },
  {
   "cell_type": "code",
   "execution_count": 15,
   "metadata": {
    "collapsed": false,
    "nbpresent": {
     "id": "e0408810-c424-4ed4-afb9-1735e9ddbd0a"
    }
   },
   "outputs": [
    {
     "data": {
      "text/plain": [
       "'POSITIVE'"
      ]
     },
     "execution_count": 15,
     "metadata": {},
     "output_type": "execute_result"
    }
   ],
   "source": [
    "labels[0]"
   ]
  },
  {
   "cell_type": "markdown",
   "metadata": {},
   "source": [
    "# Lesson: Develop a Predictive Theory"
   ]
  },
  {
   "cell_type": "code",
   "execution_count": 16,
   "metadata": {
    "collapsed": false,
    "nbpresent": {
     "id": "e67a709f-234f-4493-bae6-4fb192141ee0"
    }
   },
   "outputs": [
    {
     "name": "stdout",
     "output_type": "stream",
     "text": [
      "labels.txt \t : \t reviews.txt\n",
      "\n",
      "NEGATIVE\t:\tthis movie is terrible but it has some good effects .  ...\n",
      "POSITIVE\t:\tadrian pasdar is excellent is this film . he makes a fascinating woman .  ...\n",
      "NEGATIVE\t:\tcomment this movie is impossible . is terrible  very improbable  bad interpretat...\n",
      "POSITIVE\t:\texcellent episode movie ala pulp fiction .  days   suicides . it doesnt get more...\n",
      "NEGATIVE\t:\tif you haven  t seen this  it  s terrible . it is pure trash . i saw this about ...\n",
      "POSITIVE\t:\tthis schiffer guy is a real genius  the movie is of excellent quality and both e...\n"
     ]
    }
   ],
   "source": [
    "print(\"labels.txt \\t : \\t reviews.txt\\n\")\n",
    "pretty_print_review_and_label(2137)\n",
    "pretty_print_review_and_label(12816)\n",
    "pretty_print_review_and_label(6267)\n",
    "pretty_print_review_and_label(21934)\n",
    "pretty_print_review_and_label(5297)\n",
    "pretty_print_review_and_label(4998)"
   ]
  },
  {
   "cell_type": "markdown",
   "metadata": {},
   "source": [
    "# Project 1: Quick Theory Validation"
   ]
  },
  {
   "cell_type": "code",
   "execution_count": 17,
   "metadata": {
    "collapsed": true
   },
   "outputs": [],
   "source": [
    "#Import relevant stuff\n",
    "from collections import Counter\n",
    "import numpy as np"
   ]
  },
  {
   "cell_type": "code",
   "execution_count": 18,
   "metadata": {
    "collapsed": true
   },
   "outputs": [],
   "source": [
    "#Initialize Counters\n",
    "positive_counts=Counter()\n",
    "negative_counts=Counter()\n",
    "total_counts=Counter()"
   ]
  },
  {
   "cell_type": "code",
   "execution_count": 19,
   "metadata": {
    "collapsed": false
   },
   "outputs": [],
   "source": [
    "#For each review, split the review and add the word to the counters\n",
    "for i in range(len(reviews)):\n",
    "    if(labels[i]=='POSITIVE'):\n",
    "        words=reviews[i].split(' ');\n",
    "        for word in words:\n",
    "            positive_counts[word] += 1\n",
    "            total_counts[word] += 1\n",
    "    else:\n",
    "        words=reviews[i].split(' ');\n",
    "        for word in words:\n",
    "            negative_counts[word] += 1\n",
    "            total_counts[word] += 1"
   ]
  },
  {
   "cell_type": "code",
   "execution_count": null,
   "metadata": {
    "collapsed": false
   },
   "outputs": [],
   "source": [
    "#See most common words\n",
    "positive_counts.most_common()"
   ]
  },
  {
   "cell_type": "code",
   "execution_count": 42,
   "metadata": {
    "collapsed": false
   },
   "outputs": [],
   "source": [
    "#Initialize counter for positive to negative ratio\n",
    "pos_neg_ratios = Counter()\n",
    "\n",
    "# Calculate the ratio\n",
    "for term,count in total_counts.most_common():\n",
    "    if(count>250):\n",
    "        pos_neg_ratio = positive_counts[term] / float(negative_counts[term]+0.01)\n",
    "        pos_neg_ratios[term] = pos_neg_ratio\n",
    "        \n",
    "#Recalculate ratio as log of ratio\n",
    "for word, ratio in pos_neg_ratios.most_common():\n",
    "    if(ratio>1):\n",
    "        pos_neg_ratios[word] = np.log(ratio)\n",
    "    else:\n",
    "        pos_neg_ratios[word] = - np.log(1/(ratio+0.01))"
   ]
  },
  {
   "cell_type": "code",
   "execution_count": 41,
   "metadata": {
    "collapsed": false
   },
   "outputs": [
    {
     "data": {
      "text/plain": [
       "[('superb', 1.7188095864319033),\n",
       " ('wonderful', 1.5679980330422756),\n",
       " ('fantastic', 1.5116943876671398),\n",
       " ('excellent', 1.4673020817037794),\n",
       " ('amazing', 1.3957529414465939),\n",
       " ('powerful', 1.307437728560479),\n",
       " ('favorite', 1.2705554553161489),\n",
       " ('perfect', 1.2495194421482667),\n",
       " ('brilliant', 1.2324152392966217),\n",
       " ('perfectly', 1.2039047794287976),\n",
       " ('loved', 1.1592650847544808),\n",
       " ('tony', 1.1475750118055885),\n",
       " ('highly', 1.1455883702337604),\n",
       " ('today', 1.1082418376439529),\n",
       " ('unique', 1.0943477107103357),\n",
       " ('beauty', 1.0562507391303571),\n",
       " ('greatest', 1.0299327631723469),\n",
       " ('portrayal', 1.026341373382395),\n",
       " ('incredible', 1.0127456344202339),\n",
       " ('sweet', 0.99606868642842739),\n",
       " ('oscar', 0.9914587953685331),\n",
       " ('solid', 0.98257941753634903),\n",
       " ('beautiful', 0.97492268057293063),\n",
       " ('heart', 0.95506733093911411),\n",
       " ('masterpiece', 0.9473228411218837),\n",
       " ('season', 0.90270166472248992),\n",
       " ('great', 0.88847963729980228),\n",
       " ('enjoyed', 0.87339580204542233),\n",
       " ('moving', 0.85955601889385091),\n",
       " ('memorable', 0.85297418295067562)]"
      ]
     },
     "execution_count": 41,
     "metadata": {},
     "output_type": "execute_result"
    }
   ],
   "source": [
    "#Look at most common\n",
    "pos_neg_ratios.most_common()[0:30]"
   ]
  },
  {
   "cell_type": "code",
   "execution_count": 43,
   "metadata": {
    "collapsed": false
   },
   "outputs": [
    {
     "data": {
      "text/plain": [
       "[('unfunny', -2.551081323300588),\n",
       " ('waste', -2.4901107035690542),\n",
       " ('pointless', -2.3432023637708057),\n",
       " ('redeeming', -2.2637819801168857),\n",
       " ('worst', -2.1927222863938374),\n",
       " ('laughable', -2.1701196702562586),\n",
       " ('awful', -2.1379259835272206),\n",
       " ('poorly', -2.1312068263472965),\n",
       " ('sucks', -1.9129360748418687),\n",
       " ('lame', -1.9103086224213506),\n",
       " ('horrible', -1.8440081266710808),\n",
       " ('pathetic', -1.8333726048530989),\n",
       " ('wasted', -1.7753922107877484),\n",
       " ('crap', -1.7667231669916605),\n",
       " ('badly', -1.6958226264381993),\n",
       " ('worse', -1.6812588730229823),\n",
       " ('terrible', -1.6736094774265753),\n",
       " ('mess', -1.63557930602076),\n",
       " ('garbage', -1.63187664955076),\n",
       " ('stupid', -1.6035794476659104),\n",
       " ('dull', -1.5356553207540313),\n",
       " ('avoid', -1.5271122025774353),\n",
       " ('wooden', -1.519672343607344),\n",
       " ('whatsoever', -1.4637561497227671),\n",
       " ('ridiculous', -1.4631055014652738),\n",
       " ('excuse', -1.4628822116454949),\n",
       " ('rubbish', -1.4601030409425524),\n",
       " ('boring', -1.4468814838931428),\n",
       " ('dumb', -1.38109247913149),\n",
       " ('bother', -1.380822384399446)]"
      ]
     },
     "execution_count": 43,
     "metadata": {},
     "output_type": "execute_result"
    }
   ],
   "source": [
    "#Look at lowest score\n",
    "list(reversed(pos_neg_ratios.most_common()))[0:30]"
   ]
  },
  {
   "cell_type": "code",
   "execution_count": null,
   "metadata": {
    "collapsed": true
   },
   "outputs": [],
   "source": []
  }
 ],
 "metadata": {
  "anaconda-cloud": {},
  "kernelspec": {
   "display_name": "Python [default]",
   "language": "python",
   "name": "python2"
  },
  "language_info": {
   "codemirror_mode": {
    "name": "ipython",
    "version": 2
   },
   "file_extension": ".py",
   "mimetype": "text/x-python",
   "name": "python",
   "nbconvert_exporter": "python",
   "pygments_lexer": "ipython2",
   "version": "2.7.12"
  }
 },
 "nbformat": 4,
 "nbformat_minor": 1
}
